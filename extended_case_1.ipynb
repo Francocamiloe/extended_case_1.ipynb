{
 "cells": [
  {
   "cell_type": "markdown",
   "metadata": {},
   "source": [
    "# ¿Cómo podemos controlar el creciente número de accidentes en Nueva York?"
   ]
  },
  {
   "cell_type": "code",
   "execution_count": 1,
   "metadata": {},
   "outputs": [],
   "source": [
    "import json\n",
    "#import requests\n",
    "from bs4 import BeautifulSoup\n",
    "import pandas as pd\n",
    "import matplotlib.pyplot as plt\n",
    "import seaborn as sns\n",
    "import numpy"
   ]
  },
  {
   "cell_type": "markdown",
   "metadata": {},
   "source": [
    "## Introduccion"
   ]
  },
  {
   "cell_type": "markdown",
   "metadata": {},
   "source": [
    "**Contexto empresarial.** La ciudad de Nueva York ha experimentado un aumento en el número de accidentes en las carreteras de la ciudad. Quieren saber si el número de accidentes ha aumentado en las últimas semanas. Para todos los accidentes reportados, han recopilado detalles para cada accidente y han estado manteniendo registros durante el último año y medio (desde enero de 2018 hasta agosto de 2019).\n",
    "\n",
    "La ciudad te ha contratado para que construyas visualizaciones que les ayuden a identificar patrones en accidentes, lo que les ayudaría a tomar acciones preventivas para reducir la cantidad de accidentes en el futuro. Tienen ciertos parámetros como municipio, hora del día, motivo del accidente, etc. De los que se preocupan y de los que les gustaría obtener información específica."
   ]
  },
  {
   "cell_type": "markdown",
   "metadata": {},
   "source": [
    "**Problema comercial.** Su tarea es formatear los datos proporcionados y proporcionar visualizaciones que respondan las preguntas específicas que tiene el cliente, que se mencionan a continuación."
   ]
  },
  {
   "cell_type": "markdown",
   "metadata": {},
   "source": [
    "**Contexto analítico.** Se le proporciona un archivo CSV (almacenado en la carpeta ```datos``` ya creada) que contiene detalles sobre cada accidente, como fecha, hora, ubicación del accidente, motivo del accidente, tipos de vehículos involucrados, recuento de lesiones y muertes, etc. El delimitador en el archivo CSV dado es `;` en lugar del predeterminado `,`. Realizará las siguientes tareas con los datos:\n",
    "\n",
    "1. Extraiga datos adicionales del municipio almacenados en un archivo JSON\n",
    "2. Leer, transformar y preparar datos para su visualización\n",
    "3. Realizar análisis y construir visualizaciones de los datos para identificar patrones en el conjunto de datos.\n",
    "        \n",
    "El cliente tiene un conjunto específico de preguntas a las que le gustaría obtener respuestas. Deberá proporcionar visualizaciones para acompañar estos:\n",
    "\n",
    "1. ¿Cómo ha fluctuado el número de accidentes durante el último año y medio? ¿Han aumentado con el tiempo?\n",
    "2. Para un día en particular, ¿durante qué horas es más probable que ocurran accidentes?\n",
    "3. ¿Hay más accidentes entre semana que durante los fines de semana?\n",
    "4. ¿Cuál es la proporción de recuento de accidentes por área por municipio? ¿Qué distritos tienen un número desproporcionadamente grande de accidentes para su tamaño?\n",
    "5. Para cada municipio, ¿durante qué horas es más probable que ocurran accidentes?\n",
    "6. ¿Cuáles son las 5 principales causas de accidentes en la ciudad?\n",
    "7. ¿Qué tipos de vehículos están más involucrados en accidentes por municipio?\n",
    "8. ¿Qué tipos de vehículos están más involucrados en las muertes?"
   ]
  },
  {
   "cell_type": "markdown",
   "metadata": {},
   "source": [
    "## Obteniendo los datos relevantes"
   ]
  },
  {
   "cell_type": "markdown",
   "metadata": {},
   "source": [
    "El cliente ha solicitado un análisis de la relación accidentes-área de los distritos. Los datos del municipio se almacenan en un archivo JSON en la carpeta ```datos```."
   ]
  },
  {
   "cell_type": "markdown",
   "metadata": {},
   "source": [
    "### Question (5 min):\n",
    "\n",
    "Utilice la función ```json.load()``` para cargar el archivo ```borough_data.json``` como diccionario."
   ]
  },
  {
   "cell_type": "markdown",
   "metadata": {},
   "source": [
    "**Answer.** "
   ]
  },
  {
   "cell_type": "code",
   "execution_count": 2,
   "metadata": {},
   "outputs": [
    {
     "data": {
      "text/plain": [
       "{'the bronx': {'name': 'the bronx', 'population': 1471160.0, 'area': 42.1},\n",
       " 'brooklyn': {'name': 'brooklyn', 'population': 2648771.0, 'area': 70.82},\n",
       " 'manhattan': {'name': 'manhattan', 'population': 1664727.0, 'area': 22.83},\n",
       " 'queens': {'name': 'queens', 'population': 2358582.0, 'area': 108.53},\n",
       " 'staten island': {'name': 'staten island',\n",
       "  'population': 479458.0,\n",
       "  'area': 58.37}}"
      ]
     },
     "execution_count": 2,
     "metadata": {},
     "output_type": "execute_result"
    }
   ],
   "source": [
    "with open('borough_data.json') as f:\n",
    "    borough_data=json.load(f)\n",
    "    \n",
    "borough_data"
   ]
  },
  {
   "cell_type": "markdown",
   "metadata": {},
   "source": [
    "### Question (5 min):\n",
    "De manera similar, use la función pandas ```read_csv()``` para cargar el archivo ```accidentes.csv``` como un DataFrame. Nombra este DataFrame ```df```.\n"
   ]
  },
  {
   "cell_type": "markdown",
   "metadata": {},
   "source": [
    "**Answer.** "
   ]
  },
  {
   "cell_type": "code",
   "execution_count": 3,
   "metadata": {},
   "outputs": [],
   "source": [
    "with open('accidents.csv') as f:\n",
    "    df=pd.read_csv(f, delimiter=';')"
   ]
  },
  {
   "cell_type": "markdown",
   "metadata": {},
   "source": [
    "## Overview de la data"
   ]
  },
  {
   "cell_type": "markdown",
   "metadata": {},
   "source": [
    "Analizemos las columnas presentes en el data frame"
   ]
  },
  {
   "cell_type": "code",
   "execution_count": 4,
   "metadata": {
    "scrolled": true
   },
   "outputs": [
    {
     "data": {
      "text/html": [
       "<div>\n",
       "<style scoped>\n",
       "    .dataframe tbody tr th:only-of-type {\n",
       "        vertical-align: middle;\n",
       "    }\n",
       "\n",
       "    .dataframe tbody tr th {\n",
       "        vertical-align: top;\n",
       "    }\n",
       "\n",
       "    .dataframe thead th {\n",
       "        text-align: right;\n",
       "    }\n",
       "</style>\n",
       "<table border=\"1\" class=\"dataframe\">\n",
       "  <thead>\n",
       "    <tr style=\"text-align: right;\">\n",
       "      <th></th>\n",
       "      <th>DATE</th>\n",
       "      <th>TIME</th>\n",
       "      <th>BOROUGH</th>\n",
       "      <th>ZIP CODE</th>\n",
       "      <th>LATITUDE</th>\n",
       "      <th>LONGITUDE</th>\n",
       "      <th>ON STREET NAME</th>\n",
       "      <th>NUMBER OF PEDESTRIANS INJURED</th>\n",
       "      <th>NUMBER OF PEDESTRIANS KILLED</th>\n",
       "      <th>NUMBER OF CYCLIST INJURED</th>\n",
       "      <th>...</th>\n",
       "      <th>CONTRIBUTING FACTOR VEHICLE 2</th>\n",
       "      <th>CONTRIBUTING FACTOR VEHICLE 3</th>\n",
       "      <th>CONTRIBUTING FACTOR VEHICLE 4</th>\n",
       "      <th>CONTRIBUTING FACTOR VEHICLE 5</th>\n",
       "      <th>COLLISION_ID</th>\n",
       "      <th>VEHICLE TYPE CODE 1</th>\n",
       "      <th>VEHICLE TYPE CODE 2</th>\n",
       "      <th>VEHICLE TYPE CODE 3</th>\n",
       "      <th>VEHICLE TYPE CODE 4</th>\n",
       "      <th>VEHICLE TYPE CODE 5</th>\n",
       "    </tr>\n",
       "  </thead>\n",
       "  <tbody>\n",
       "    <tr>\n",
       "      <th>0</th>\n",
       "      <td>09/26/2018</td>\n",
       "      <td>12:12</td>\n",
       "      <td>BRONX</td>\n",
       "      <td>10454.0</td>\n",
       "      <td>40.808987</td>\n",
       "      <td>-73.911316</td>\n",
       "      <td>NaN</td>\n",
       "      <td>0</td>\n",
       "      <td>0</td>\n",
       "      <td>0</td>\n",
       "      <td>...</td>\n",
       "      <td>NaN</td>\n",
       "      <td>NaN</td>\n",
       "      <td>NaN</td>\n",
       "      <td>NaN</td>\n",
       "      <td>3988123</td>\n",
       "      <td>Sedan</td>\n",
       "      <td>NaN</td>\n",
       "      <td>NaN</td>\n",
       "      <td>NaN</td>\n",
       "      <td>NaN</td>\n",
       "    </tr>\n",
       "    <tr>\n",
       "      <th>1</th>\n",
       "      <td>09/25/2018</td>\n",
       "      <td>16:30</td>\n",
       "      <td>BROOKLYN</td>\n",
       "      <td>11236.0</td>\n",
       "      <td>40.636005</td>\n",
       "      <td>-73.912510</td>\n",
       "      <td>FLATLANDS AVENUE</td>\n",
       "      <td>1</td>\n",
       "      <td>0</td>\n",
       "      <td>0</td>\n",
       "      <td>...</td>\n",
       "      <td>NaN</td>\n",
       "      <td>NaN</td>\n",
       "      <td>NaN</td>\n",
       "      <td>NaN</td>\n",
       "      <td>3987962</td>\n",
       "      <td>Sedan</td>\n",
       "      <td>NaN</td>\n",
       "      <td>NaN</td>\n",
       "      <td>NaN</td>\n",
       "      <td>NaN</td>\n",
       "    </tr>\n",
       "    <tr>\n",
       "      <th>2</th>\n",
       "      <td>08/22/2019</td>\n",
       "      <td>19:30</td>\n",
       "      <td>QUEENS</td>\n",
       "      <td>11101.0</td>\n",
       "      <td>40.755490</td>\n",
       "      <td>-73.939530</td>\n",
       "      <td>NaN</td>\n",
       "      <td>0</td>\n",
       "      <td>0</td>\n",
       "      <td>0</td>\n",
       "      <td>...</td>\n",
       "      <td>NaN</td>\n",
       "      <td>NaN</td>\n",
       "      <td>NaN</td>\n",
       "      <td>NaN</td>\n",
       "      <td>4193132</td>\n",
       "      <td>Sedan</td>\n",
       "      <td>NaN</td>\n",
       "      <td>NaN</td>\n",
       "      <td>NaN</td>\n",
       "      <td>NaN</td>\n",
       "    </tr>\n",
       "    <tr>\n",
       "      <th>3</th>\n",
       "      <td>09/23/2018</td>\n",
       "      <td>13:10</td>\n",
       "      <td>QUEENS</td>\n",
       "      <td>11367.0</td>\n",
       "      <td>NaN</td>\n",
       "      <td>NaN</td>\n",
       "      <td>MAIN STREET</td>\n",
       "      <td>0</td>\n",
       "      <td>0</td>\n",
       "      <td>1</td>\n",
       "      <td>...</td>\n",
       "      <td>Unspecified</td>\n",
       "      <td>NaN</td>\n",
       "      <td>NaN</td>\n",
       "      <td>NaN</td>\n",
       "      <td>3985962</td>\n",
       "      <td>Bike</td>\n",
       "      <td>Station Wagon/Sport Utility Vehicle</td>\n",
       "      <td>NaN</td>\n",
       "      <td>NaN</td>\n",
       "      <td>NaN</td>\n",
       "    </tr>\n",
       "    <tr>\n",
       "      <th>4</th>\n",
       "      <td>08/20/2019</td>\n",
       "      <td>22:40</td>\n",
       "      <td>BRONX</td>\n",
       "      <td>10468.0</td>\n",
       "      <td>40.868336</td>\n",
       "      <td>-73.901270</td>\n",
       "      <td>NaN</td>\n",
       "      <td>0</td>\n",
       "      <td>0</td>\n",
       "      <td>0</td>\n",
       "      <td>...</td>\n",
       "      <td>Unspecified</td>\n",
       "      <td>NaN</td>\n",
       "      <td>NaN</td>\n",
       "      <td>NaN</td>\n",
       "      <td>4192111</td>\n",
       "      <td>Sedan</td>\n",
       "      <td>Sedan</td>\n",
       "      <td>NaN</td>\n",
       "      <td>NaN</td>\n",
       "      <td>NaN</td>\n",
       "    </tr>\n",
       "  </tbody>\n",
       "</table>\n",
       "<p>5 rows × 24 columns</p>\n",
       "</div>"
      ],
      "text/plain": [
       "         DATE   TIME   BOROUGH  ZIP CODE   LATITUDE  LONGITUDE  \\\n",
       "0  09/26/2018  12:12     BRONX   10454.0  40.808987 -73.911316   \n",
       "1  09/25/2018  16:30  BROOKLYN   11236.0  40.636005 -73.912510   \n",
       "2  08/22/2019  19:30    QUEENS   11101.0  40.755490 -73.939530   \n",
       "3  09/23/2018  13:10    QUEENS   11367.0        NaN        NaN   \n",
       "4  08/20/2019  22:40     BRONX   10468.0  40.868336 -73.901270   \n",
       "\n",
       "                     ON STREET NAME  NUMBER OF PEDESTRIANS INJURED  \\\n",
       "0                               NaN                              0   \n",
       "1  FLATLANDS AVENUE                                              1   \n",
       "2                               NaN                              0   \n",
       "3  MAIN STREET                                                   0   \n",
       "4                               NaN                              0   \n",
       "\n",
       "   NUMBER OF PEDESTRIANS KILLED  NUMBER OF CYCLIST INJURED  ...  \\\n",
       "0                             0                          0  ...   \n",
       "1                             0                          0  ...   \n",
       "2                             0                          0  ...   \n",
       "3                             0                          1  ...   \n",
       "4                             0                          0  ...   \n",
       "\n",
       "   CONTRIBUTING FACTOR VEHICLE 2  CONTRIBUTING FACTOR VEHICLE 3  \\\n",
       "0                            NaN                            NaN   \n",
       "1                            NaN                            NaN   \n",
       "2                            NaN                            NaN   \n",
       "3                    Unspecified                            NaN   \n",
       "4                    Unspecified                            NaN   \n",
       "\n",
       "   CONTRIBUTING FACTOR VEHICLE 4 CONTRIBUTING FACTOR VEHICLE 5 COLLISION_ID  \\\n",
       "0                            NaN                           NaN      3988123   \n",
       "1                            NaN                           NaN      3987962   \n",
       "2                            NaN                           NaN      4193132   \n",
       "3                            NaN                           NaN      3985962   \n",
       "4                            NaN                           NaN      4192111   \n",
       "\n",
       "  VEHICLE TYPE CODE 1                  VEHICLE TYPE CODE 2  \\\n",
       "0               Sedan                                  NaN   \n",
       "1               Sedan                                  NaN   \n",
       "2               Sedan                                  NaN   \n",
       "3                Bike  Station Wagon/Sport Utility Vehicle   \n",
       "4               Sedan                                Sedan   \n",
       "\n",
       "  VEHICLE TYPE CODE 3  VEHICLE TYPE CODE 4 VEHICLE TYPE CODE 5  \n",
       "0                 NaN                  NaN                 NaN  \n",
       "1                 NaN                  NaN                 NaN  \n",
       "2                 NaN                  NaN                 NaN  \n",
       "3                 NaN                  NaN                 NaN  \n",
       "4                 NaN                  NaN                 NaN  \n",
       "\n",
       "[5 rows x 24 columns]"
      ]
     },
     "execution_count": 4,
     "metadata": {},
     "output_type": "execute_result"
    }
   ],
   "source": [
    "df.head()"
   ]
  },
  {
   "cell_type": "markdown",
   "metadata": {},
   "source": [
    "Tenemos las siguientes columnas\n",
    "\n",
    "1. **BOROUGH**: el municipio en el que ocurrió el accidente\n",
    "2. **COLLISION_ID**: un identificador único para esta colisión\n",
    "3. **CONTRIBUTING FACTOR VEHICLE (1, 2, 3, 4, 5)**: Motivos del accidente\n",
    "4. **CROSS STREET NAME**: Calle transversal más cercana al lugar del accidente\n",
    "5. **DATE**: Fecha del accidente\n",
    "6. **TIME**: Hora del accidente\n",
    "7. **LATITUDE**: Latitud del accidente\n",
    "8. **LONGITUDE**: Longitud del accidente\n",
    "9. **NUMBER OF (CYCLISTS, MOTORISTS, PEDESTRIANS) INJURED**: Lesión por categoría\n",
    "10. **NUMBER OF (CYCLISTS, MOTORISTS, PEDESTRIANS) DEATHS**: Categoría muerte sabia\n",
    "11. **ON STREET NAME**: Calle donde ocurrió el accidente\n",
    "13. **VEHICLE TYPE CODE(1, 2, 3, 4, 5)**: Tipos de vehículos involucrados en el accidente\n",
    "14. **ZIP CODE**: código postal del lugar del accidente"
   ]
  },
  {
   "cell_type": "markdown",
   "metadata": {},
   "source": [
    "### Exercise 1 (30 min):\n",
    "\n",
    "Desde 2014, la ciudad de Nueva York ha estado implementando un plan de seguridad vial llamado [Vision Zero](https://www1.nyc.gov/content/visionzero/pages/). Su objetivo es reducir el número de muertes por accidentes de tránsito a *cero* para fines de 2024. El plan está creando nuevas y mejorando las medidas de seguridad actuales, algunas de ellas incluyen:\n",
    "\n",
    "- [ ] Detección de peatones automatizada\n",
    "- [ x] Auditorías de seguridad vial en lugares de alto riesgo\n",
    "- [ ] Ampliación de la red de carriles bici\n",
    "- [ x] Iniciativas específicas de educación y sensibilización\n",
    "- [ ] Creación de islas de refugio peatonal\n",
    "- [x ] Lanzamiento del programa integrado de reductor de velocidad basado en datos (topes y amortiguadores de velocidad)\n",
    "\n",
    "¿Cuáles de estas iniciativas podrían beneficiarse directamente de un análisis de los datos proporcionados? Marque todo lo que corresponda.\n",
    "\n",
    "**Nota:** Puede crear marcas de verificación haciendo doble clic en esta celda y agregando una ```[x]``` en las líneas correspondientes."
   ]
  },
  {
   "cell_type": "markdown",
   "metadata": {},
   "source": [
    "**Answer.**\n",
    "\n",
    "- [ ] Detecciòn de peatones automatizada\n",
    "\n",
    "\n",
    "- [ ] Auditorías de seguridadvial en lugares de alto riesgo\n",
    "\n",
    "- [ ] Ampliación de la red de carriles bici\n",
    "\n",
    "- [ ] Iniciativas especificas de educación y sensibilización\n",
    "\n",
    "- [ ] Creación de islas de refugio peatonal\n",
    "\n",
    "- [ ] Lanzamiento del programa integrado de reductor de velocidad en datos (topes y amortiguadores de velocidad)\n"
   ]
  },
  {
   "cell_type": "markdown",
   "metadata": {},
   "source": [
    "Sigamos adelante y respondamos a cada una de las preguntas del cliente."
   ]
  },
  {
   "cell_type": "markdown",
   "metadata": {},
   "source": [
    "## Respondiendo las preguntas del cliente "
   ]
  },
  {
   "cell_type": "markdown",
   "metadata": {},
   "source": [
    "### Exercise 2 (30 min):\n",
    "\n",
    "Agrupe los datos disponibles mensualmente y genere un line plot de accidentes a lo largo del tiempo. ¿Ha aumentado el número de accidentes durante el último año y medio?\n",
    "\n",
    "**Sugerencia**: Puede encontrar útiles las funciones de pandas ```to_datetime ()``` y ```dt.to_period ()```."
   ]
  },
  {
   "cell_type": "markdown",
   "metadata": {},
   "source": [
    "**Answer.** "
   ]
  },
  {
   "cell_type": "code",
   "execution_count": 5,
   "metadata": {},
   "outputs": [],
   "source": [
    "df[\"DATE\"] = pd.to_datetime(df[\"DATE\"])\n",
    "accidentes_mensuales = df.groupby(df[\"DATE\"].dt.to_period(\"M\")).size()"
   ]
  },
  {
   "cell_type": "code",
   "execution_count": 6,
   "metadata": {},
   "outputs": [
    {
     "data": {
      "text/plain": [
       "<AxesSubplot:xlabel='DATE'>"
      ]
     },
     "execution_count": 6,
     "metadata": {},
     "output_type": "execute_result"
    },
    {
     "data": {
      "image/png": "[encoded data removed]",
      "text/plain": [
       "<Figure size 432x288 with 1 Axes>"
      ]
     },
     "metadata": {
      "needs_background": "light"
     },
     "output_type": "display_data"
    }
   ],
   "source": [
    "accidentes_mensuales.plot.line()"
   ]
  },
  {
   "cell_type": "markdown",
   "metadata": {},
   "source": []
  },
  {
   "cell_type": "markdown",
   "metadata": {},
   "source": [
    "### Exercise 3 (15 min):\n",
    "\n",
    "De la gráfica anterior, ¿qué meses parecen tener el menor número de accidentes? ¿Cuáles crees que son las razones detrás de esto?"
   ]
  },
  {
   "cell_type": "markdown",
   "metadata": {},
   "source": [
    "**Answer.** \n"
   ]
  },
  {
   "cell_type": "code",
   "execution_count": 7,
   "metadata": {
    "scrolled": true
   },
   "outputs": [
    {
     "data": {
      "text/plain": [
       "11926.1"
      ]
     },
     "execution_count": 7,
     "metadata": {},
     "output_type": "execute_result"
    }
   ],
   "source": [
    "accidentes_mensuales.mean()"
   ]
  },
  {
   "cell_type": "code",
   "execution_count": 8,
   "metadata": {},
   "outputs": [],
   "source": [
    "df1 = df[['DATE','COLLISION_ID']]"
   ]
  },
  {
   "cell_type": "code",
   "execution_count": 9,
   "metadata": {},
   "outputs": [
    {
     "data": {
      "text/html": [
       "<div>\n",
       "<style scoped>\n",
       "    .dataframe tbody tr th:only-of-type {\n",
       "        vertical-align: middle;\n",
       "    }\n",
       "\n",
       "    .dataframe tbody tr th {\n",
       "        vertical-align: top;\n",
       "    }\n",
       "\n",
       "    .dataframe thead th {\n",
       "        text-align: right;\n",
       "    }\n",
       "</style>\n",
       "<table border=\"1\" class=\"dataframe\">\n",
       "  <thead>\n",
       "    <tr style=\"text-align: right;\">\n",
       "      <th></th>\n",
       "      <th>DATE</th>\n",
       "      <th>COLLISION_ID</th>\n",
       "    </tr>\n",
       "  </thead>\n",
       "  <tbody>\n",
       "    <tr>\n",
       "      <th>0</th>\n",
       "      <td>2018-09-26</td>\n",
       "      <td>3988123</td>\n",
       "    </tr>\n",
       "    <tr>\n",
       "      <th>1</th>\n",
       "      <td>2018-09-25</td>\n",
       "      <td>3987962</td>\n",
       "    </tr>\n",
       "    <tr>\n",
       "      <th>2</th>\n",
       "      <td>2019-08-22</td>\n",
       "      <td>4193132</td>\n",
       "    </tr>\n",
       "    <tr>\n",
       "      <th>3</th>\n",
       "      <td>2018-09-23</td>\n",
       "      <td>3985962</td>\n",
       "    </tr>\n",
       "    <tr>\n",
       "      <th>4</th>\n",
       "      <td>2019-08-20</td>\n",
       "      <td>4192111</td>\n",
       "    </tr>\n",
       "    <tr>\n",
       "      <th>...</th>\n",
       "      <td>...</td>\n",
       "      <td>...</td>\n",
       "    </tr>\n",
       "    <tr>\n",
       "      <th>238517</th>\n",
       "      <td>2018-01-20</td>\n",
       "      <td>3832275</td>\n",
       "    </tr>\n",
       "    <tr>\n",
       "      <th>238518</th>\n",
       "      <td>2018-01-04</td>\n",
       "      <td>3822315</td>\n",
       "    </tr>\n",
       "    <tr>\n",
       "      <th>238519</th>\n",
       "      <td>2018-01-20</td>\n",
       "      <td>3832513</td>\n",
       "    </tr>\n",
       "    <tr>\n",
       "      <th>238520</th>\n",
       "      <td>2018-01-29</td>\n",
       "      <td>3837608</td>\n",
       "    </tr>\n",
       "    <tr>\n",
       "      <th>238521</th>\n",
       "      <td>2018-01-23</td>\n",
       "      <td>3833631</td>\n",
       "    </tr>\n",
       "  </tbody>\n",
       "</table>\n",
       "<p>238522 rows × 2 columns</p>\n",
       "</div>"
      ],
      "text/plain": [
       "             DATE  COLLISION_ID\n",
       "0      2018-09-26       3988123\n",
       "1      2018-09-25       3987962\n",
       "2      2019-08-22       4193132\n",
       "3      2018-09-23       3985962\n",
       "4      2019-08-20       4192111\n",
       "...           ...           ...\n",
       "238517 2018-01-20       3832275\n",
       "238518 2018-01-04       3822315\n",
       "238519 2018-01-20       3832513\n",
       "238520 2018-01-29       3837608\n",
       "238521 2018-01-23       3833631\n",
       "\n",
       "[238522 rows x 2 columns]"
      ]
     },
     "execution_count": 9,
     "metadata": {},
     "output_type": "execute_result"
    }
   ],
   "source": [
    "df1"
   ]
  },
  {
   "cell_type": "markdown",
   "metadata": {},
   "source": [
    "### Exercise 4 (30 min):\n",
    "¿Cómo varía el número de accidentes a lo largo de un solo día? Cree una nueva columna `HOUR` basada en los datos de la columna `TIME`, luego trace un gráfico de barras de la distribución por hora a lo largo del día.\n",
    "\n",
    "**Sugerencia:** Puede encontrar útil la función ```dt.hour```."
   ]
  },
  {
   "cell_type": "markdown",
   "metadata": {},
   "source": [
    "**Answer.**"
   ]
  },
  {
   "cell_type": "code",
   "execution_count": 10,
   "metadata": {},
   "outputs": [],
   "source": [
    "df[\"TIME\"] = pd.to_datetime(df[\"TIME\"])"
   ]
  },
  {
   "cell_type": "code",
   "execution_count": 11,
   "metadata": {},
   "outputs": [],
   "source": [
    "df[\"HOUR\"]= df[\"TIME\"].dt.hour"
   ]
  },
  {
   "cell_type": "code",
   "execution_count": 12,
   "metadata": {},
   "outputs": [],
   "source": [
    "df[\"HOUR\"]= df[\"TIME\"].dt.hour"
   ]
  },
  {
   "cell_type": "code",
   "execution_count": 13,
   "metadata": {},
   "outputs": [
    {
     "data": {
      "text/html": [
       "<div>\n",
       "<style scoped>\n",
       "    .dataframe tbody tr th:only-of-type {\n",
       "        vertical-align: middle;\n",
       "    }\n",
       "\n",
       "    .dataframe tbody tr th {\n",
       "        vertical-align: top;\n",
       "    }\n",
       "\n",
       "    .dataframe thead th {\n",
       "        text-align: right;\n",
       "    }\n",
       "</style>\n",
       "<table border=\"1\" class=\"dataframe\">\n",
       "  <thead>\n",
       "    <tr style=\"text-align: right;\">\n",
       "      <th></th>\n",
       "      <th>DATE</th>\n",
       "      <th>TIME</th>\n",
       "      <th>BOROUGH</th>\n",
       "      <th>ZIP CODE</th>\n",
       "      <th>LATITUDE</th>\n",
       "      <th>LONGITUDE</th>\n",
       "      <th>ON STREET NAME</th>\n",
       "      <th>NUMBER OF PEDESTRIANS INJURED</th>\n",
       "      <th>NUMBER OF PEDESTRIANS KILLED</th>\n",
       "      <th>NUMBER OF CYCLIST INJURED</th>\n",
       "      <th>...</th>\n",
       "      <th>CONTRIBUTING FACTOR VEHICLE 3</th>\n",
       "      <th>CONTRIBUTING FACTOR VEHICLE 4</th>\n",
       "      <th>CONTRIBUTING FACTOR VEHICLE 5</th>\n",
       "      <th>COLLISION_ID</th>\n",
       "      <th>VEHICLE TYPE CODE 1</th>\n",
       "      <th>VEHICLE TYPE CODE 2</th>\n",
       "      <th>VEHICLE TYPE CODE 3</th>\n",
       "      <th>VEHICLE TYPE CODE 4</th>\n",
       "      <th>VEHICLE TYPE CODE 5</th>\n",
       "      <th>HOUR</th>\n",
       "    </tr>\n",
       "  </thead>\n",
       "  <tbody>\n",
       "    <tr>\n",
       "      <th>0</th>\n",
       "      <td>2018-09-26</td>\n",
       "      <td>2021-08-14 12:12:00</td>\n",
       "      <td>BRONX</td>\n",
       "      <td>10454.0</td>\n",
       "      <td>40.808987</td>\n",
       "      <td>-73.911316</td>\n",
       "      <td>NaN</td>\n",
       "      <td>0</td>\n",
       "      <td>0</td>\n",
       "      <td>0</td>\n",
       "      <td>...</td>\n",
       "      <td>NaN</td>\n",
       "      <td>NaN</td>\n",
       "      <td>NaN</td>\n",
       "      <td>3988123</td>\n",
       "      <td>Sedan</td>\n",
       "      <td>NaN</td>\n",
       "      <td>NaN</td>\n",
       "      <td>NaN</td>\n",
       "      <td>NaN</td>\n",
       "      <td>12</td>\n",
       "    </tr>\n",
       "    <tr>\n",
       "      <th>1</th>\n",
       "      <td>2018-09-25</td>\n",
       "      <td>2021-08-14 16:30:00</td>\n",
       "      <td>BROOKLYN</td>\n",
       "      <td>11236.0</td>\n",
       "      <td>40.636005</td>\n",
       "      <td>-73.912510</td>\n",
       "      <td>FLATLANDS AVENUE</td>\n",
       "      <td>1</td>\n",
       "      <td>0</td>\n",
       "      <td>0</td>\n",
       "      <td>...</td>\n",
       "      <td>NaN</td>\n",
       "      <td>NaN</td>\n",
       "      <td>NaN</td>\n",
       "      <td>3987962</td>\n",
       "      <td>Sedan</td>\n",
       "      <td>NaN</td>\n",
       "      <td>NaN</td>\n",
       "      <td>NaN</td>\n",
       "      <td>NaN</td>\n",
       "      <td>16</td>\n",
       "    </tr>\n",
       "    <tr>\n",
       "      <th>2</th>\n",
       "      <td>2019-08-22</td>\n",
       "      <td>2021-08-14 19:30:00</td>\n",
       "      <td>QUEENS</td>\n",
       "      <td>11101.0</td>\n",
       "      <td>40.755490</td>\n",
       "      <td>-73.939530</td>\n",
       "      <td>NaN</td>\n",
       "      <td>0</td>\n",
       "      <td>0</td>\n",
       "      <td>0</td>\n",
       "      <td>...</td>\n",
       "      <td>NaN</td>\n",
       "      <td>NaN</td>\n",
       "      <td>NaN</td>\n",
       "      <td>4193132</td>\n",
       "      <td>Sedan</td>\n",
       "      <td>NaN</td>\n",
       "      <td>NaN</td>\n",
       "      <td>NaN</td>\n",
       "      <td>NaN</td>\n",
       "      <td>19</td>\n",
       "    </tr>\n",
       "    <tr>\n",
       "      <th>3</th>\n",
       "      <td>2018-09-23</td>\n",
       "      <td>2021-08-14 13:10:00</td>\n",
       "      <td>QUEENS</td>\n",
       "      <td>11367.0</td>\n",
       "      <td>NaN</td>\n",
       "      <td>NaN</td>\n",
       "      <td>MAIN STREET</td>\n",
       "      <td>0</td>\n",
       "      <td>0</td>\n",
       "      <td>1</td>\n",
       "      <td>...</td>\n",
       "      <td>NaN</td>\n",
       "      <td>NaN</td>\n",
       "      <td>NaN</td>\n",
       "      <td>3985962</td>\n",
       "      <td>Bike</td>\n",
       "      <td>Station Wagon/Sport Utility Vehicle</td>\n",
       "      <td>NaN</td>\n",
       "      <td>NaN</td>\n",
       "      <td>NaN</td>\n",
       "      <td>13</td>\n",
       "    </tr>\n",
       "    <tr>\n",
       "      <th>4</th>\n",
       "      <td>2019-08-20</td>\n",
       "      <td>2021-08-14 22:40:00</td>\n",
       "      <td>BRONX</td>\n",
       "      <td>10468.0</td>\n",
       "      <td>40.868336</td>\n",
       "      <td>-73.901270</td>\n",
       "      <td>NaN</td>\n",
       "      <td>0</td>\n",
       "      <td>0</td>\n",
       "      <td>0</td>\n",
       "      <td>...</td>\n",
       "      <td>NaN</td>\n",
       "      <td>NaN</td>\n",
       "      <td>NaN</td>\n",
       "      <td>4192111</td>\n",
       "      <td>Sedan</td>\n",
       "      <td>Sedan</td>\n",
       "      <td>NaN</td>\n",
       "      <td>NaN</td>\n",
       "      <td>NaN</td>\n",
       "      <td>22</td>\n",
       "    </tr>\n",
       "    <tr>\n",
       "      <th>...</th>\n",
       "      <td>...</td>\n",
       "      <td>...</td>\n",
       "      <td>...</td>\n",
       "      <td>...</td>\n",
       "      <td>...</td>\n",
       "      <td>...</td>\n",
       "      <td>...</td>\n",
       "      <td>...</td>\n",
       "      <td>...</td>\n",
       "      <td>...</td>\n",
       "      <td>...</td>\n",
       "      <td>...</td>\n",
       "      <td>...</td>\n",
       "      <td>...</td>\n",
       "      <td>...</td>\n",
       "      <td>...</td>\n",
       "      <td>...</td>\n",
       "      <td>...</td>\n",
       "      <td>...</td>\n",
       "      <td>...</td>\n",
       "      <td>...</td>\n",
       "    </tr>\n",
       "    <tr>\n",
       "      <th>238517</th>\n",
       "      <td>2018-01-20</td>\n",
       "      <td>2021-08-14 15:00:00</td>\n",
       "      <td>QUEENS</td>\n",
       "      <td>11436.0</td>\n",
       "      <td>40.685356</td>\n",
       "      <td>-73.797230</td>\n",
       "      <td>LINDEN BOULEVARD</td>\n",
       "      <td>0</td>\n",
       "      <td>0</td>\n",
       "      <td>0</td>\n",
       "      <td>...</td>\n",
       "      <td>NaN</td>\n",
       "      <td>NaN</td>\n",
       "      <td>NaN</td>\n",
       "      <td>3832275</td>\n",
       "      <td>SPORT UTILITY / STATION WAGON</td>\n",
       "      <td>PASSENGER VEHICLE</td>\n",
       "      <td>NaN</td>\n",
       "      <td>NaN</td>\n",
       "      <td>NaN</td>\n",
       "      <td>15</td>\n",
       "    </tr>\n",
       "    <tr>\n",
       "      <th>238518</th>\n",
       "      <td>2018-01-04</td>\n",
       "      <td>2021-08-14 14:00:00</td>\n",
       "      <td>BRONX</td>\n",
       "      <td>10452.0</td>\n",
       "      <td>40.845180</td>\n",
       "      <td>-73.914170</td>\n",
       "      <td>JEROME AVENUE</td>\n",
       "      <td>0</td>\n",
       "      <td>0</td>\n",
       "      <td>0</td>\n",
       "      <td>...</td>\n",
       "      <td>NaN</td>\n",
       "      <td>NaN</td>\n",
       "      <td>NaN</td>\n",
       "      <td>3822315</td>\n",
       "      <td>SPORT UTILITY / STATION WAGON</td>\n",
       "      <td>NaN</td>\n",
       "      <td>NaN</td>\n",
       "      <td>NaN</td>\n",
       "      <td>NaN</td>\n",
       "      <td>14</td>\n",
       "    </tr>\n",
       "    <tr>\n",
       "      <th>238519</th>\n",
       "      <td>2018-01-20</td>\n",
       "      <td>2021-08-14 13:05:00</td>\n",
       "      <td>BRONX</td>\n",
       "      <td>10462.0</td>\n",
       "      <td>40.831210</td>\n",
       "      <td>-73.850876</td>\n",
       "      <td>CASTLE HILL AVENUE</td>\n",
       "      <td>0</td>\n",
       "      <td>0</td>\n",
       "      <td>0</td>\n",
       "      <td>...</td>\n",
       "      <td>NaN</td>\n",
       "      <td>NaN</td>\n",
       "      <td>NaN</td>\n",
       "      <td>3832513</td>\n",
       "      <td>PASSENGER VEHICLE</td>\n",
       "      <td>SPORT UTILITY / STATION WAGON</td>\n",
       "      <td>NaN</td>\n",
       "      <td>NaN</td>\n",
       "      <td>NaN</td>\n",
       "      <td>13</td>\n",
       "    </tr>\n",
       "    <tr>\n",
       "      <th>238520</th>\n",
       "      <td>2018-01-29</td>\n",
       "      <td>2021-08-14 17:45:00</td>\n",
       "      <td>QUEENS</td>\n",
       "      <td>11377.0</td>\n",
       "      <td>40.757250</td>\n",
       "      <td>-73.904854</td>\n",
       "      <td>31 AVENUE</td>\n",
       "      <td>0</td>\n",
       "      <td>0</td>\n",
       "      <td>0</td>\n",
       "      <td>...</td>\n",
       "      <td>NaN</td>\n",
       "      <td>NaN</td>\n",
       "      <td>NaN</td>\n",
       "      <td>3837608</td>\n",
       "      <td>SPORT UTILITY / STATION WAGON</td>\n",
       "      <td>PASSENGER VEHICLE</td>\n",
       "      <td>NaN</td>\n",
       "      <td>NaN</td>\n",
       "      <td>NaN</td>\n",
       "      <td>17</td>\n",
       "    </tr>\n",
       "    <tr>\n",
       "      <th>238521</th>\n",
       "      <td>2018-01-23</td>\n",
       "      <td>2021-08-14 16:38:00</td>\n",
       "      <td>BROOKLYN</td>\n",
       "      <td>11211.0</td>\n",
       "      <td>40.710197</td>\n",
       "      <td>-73.958430</td>\n",
       "      <td>HAVEMEYER STREET</td>\n",
       "      <td>0</td>\n",
       "      <td>0</td>\n",
       "      <td>0</td>\n",
       "      <td>...</td>\n",
       "      <td>NaN</td>\n",
       "      <td>NaN</td>\n",
       "      <td>NaN</td>\n",
       "      <td>3833631</td>\n",
       "      <td>SPORT UTILITY / STATION WAGON</td>\n",
       "      <td>SPORT UTILITY / STATION WAGON</td>\n",
       "      <td>NaN</td>\n",
       "      <td>NaN</td>\n",
       "      <td>NaN</td>\n",
       "      <td>16</td>\n",
       "    </tr>\n",
       "  </tbody>\n",
       "</table>\n",
       "<p>238522 rows × 25 columns</p>\n",
       "</div>"
      ],
      "text/plain": [
       "             DATE                TIME   BOROUGH  ZIP CODE   LATITUDE  \\\n",
       "0      2018-09-26 2021-08-14 12:12:00     BRONX   10454.0  40.808987   \n",
       "1      2018-09-25 2021-08-14 16:30:00  BROOKLYN   11236.0  40.636005   \n",
       "2      2019-08-22 2021-08-14 19:30:00    QUEENS   11101.0  40.755490   \n",
       "3      2018-09-23 2021-08-14 13:10:00    QUEENS   11367.0        NaN   \n",
       "4      2019-08-20 2021-08-14 22:40:00     BRONX   10468.0  40.868336   \n",
       "...           ...                 ...       ...       ...        ...   \n",
       "238517 2018-01-20 2021-08-14 15:00:00    QUEENS   11436.0  40.685356   \n",
       "238518 2018-01-04 2021-08-14 14:00:00     BRONX   10452.0  40.845180   \n",
       "238519 2018-01-20 2021-08-14 13:05:00     BRONX   10462.0  40.831210   \n",
       "238520 2018-01-29 2021-08-14 17:45:00    QUEENS   11377.0  40.757250   \n",
       "238521 2018-01-23 2021-08-14 16:38:00  BROOKLYN   11211.0  40.710197   \n",
       "\n",
       "        LONGITUDE                    ON STREET NAME  \\\n",
       "0      -73.911316                               NaN   \n",
       "1      -73.912510  FLATLANDS AVENUE                   \n",
       "2      -73.939530                               NaN   \n",
       "3             NaN  MAIN STREET                        \n",
       "4      -73.901270                               NaN   \n",
       "...           ...                               ...   \n",
       "238517 -73.797230  LINDEN BOULEVARD                   \n",
       "238518 -73.914170  JEROME AVENUE                      \n",
       "238519 -73.850876  CASTLE HILL AVENUE                 \n",
       "238520 -73.904854  31 AVENUE                          \n",
       "238521 -73.958430  HAVEMEYER STREET                   \n",
       "\n",
       "        NUMBER OF PEDESTRIANS INJURED  NUMBER OF PEDESTRIANS KILLED  \\\n",
       "0                                   0                             0   \n",
       "1                                   1                             0   \n",
       "2                                   0                             0   \n",
       "3                                   0                             0   \n",
       "4                                   0                             0   \n",
       "...                               ...                           ...   \n",
       "238517                              0                             0   \n",
       "238518                              0                             0   \n",
       "238519                              0                             0   \n",
       "238520                              0                             0   \n",
       "238521                              0                             0   \n",
       "\n",
       "        NUMBER OF CYCLIST INJURED  ...  CONTRIBUTING FACTOR VEHICLE 3  \\\n",
       "0                               0  ...                            NaN   \n",
       "1                               0  ...                            NaN   \n",
       "2                               0  ...                            NaN   \n",
       "3                               1  ...                            NaN   \n",
       "4                               0  ...                            NaN   \n",
       "...                           ...  ...                            ...   \n",
       "238517                          0  ...                            NaN   \n",
       "238518                          0  ...                            NaN   \n",
       "238519                          0  ...                            NaN   \n",
       "238520                          0  ...                            NaN   \n",
       "238521                          0  ...                            NaN   \n",
       "\n",
       "        CONTRIBUTING FACTOR VEHICLE 4  CONTRIBUTING FACTOR VEHICLE 5  \\\n",
       "0                                 NaN                            NaN   \n",
       "1                                 NaN                            NaN   \n",
       "2                                 NaN                            NaN   \n",
       "3                                 NaN                            NaN   \n",
       "4                                 NaN                            NaN   \n",
       "...                               ...                            ...   \n",
       "238517                            NaN                            NaN   \n",
       "238518                            NaN                            NaN   \n",
       "238519                            NaN                            NaN   \n",
       "238520                            NaN                            NaN   \n",
       "238521                            NaN                            NaN   \n",
       "\n",
       "       COLLISION_ID            VEHICLE TYPE CODE 1  \\\n",
       "0           3988123                          Sedan   \n",
       "1           3987962                          Sedan   \n",
       "2           4193132                          Sedan   \n",
       "3           3985962                           Bike   \n",
       "4           4192111                          Sedan   \n",
       "...             ...                            ...   \n",
       "238517      3832275  SPORT UTILITY / STATION WAGON   \n",
       "238518      3822315  SPORT UTILITY / STATION WAGON   \n",
       "238519      3832513              PASSENGER VEHICLE   \n",
       "238520      3837608  SPORT UTILITY / STATION WAGON   \n",
       "238521      3833631  SPORT UTILITY / STATION WAGON   \n",
       "\n",
       "                        VEHICLE TYPE CODE 2 VEHICLE TYPE CODE 3  \\\n",
       "0                                       NaN                 NaN   \n",
       "1                                       NaN                 NaN   \n",
       "2                                       NaN                 NaN   \n",
       "3       Station Wagon/Sport Utility Vehicle                 NaN   \n",
       "4                                     Sedan                 NaN   \n",
       "...                                     ...                 ...   \n",
       "238517                    PASSENGER VEHICLE                 NaN   \n",
       "238518                                  NaN                 NaN   \n",
       "238519        SPORT UTILITY / STATION WAGON                 NaN   \n",
       "238520                    PASSENGER VEHICLE                 NaN   \n",
       "238521        SPORT UTILITY / STATION WAGON                 NaN   \n",
       "\n",
       "       VEHICLE TYPE CODE 4  VEHICLE TYPE CODE 5 HOUR  \n",
       "0                      NaN                  NaN   12  \n",
       "1                      NaN                  NaN   16  \n",
       "2                      NaN                  NaN   19  \n",
       "3                      NaN                  NaN   13  \n",
       "4                      NaN                  NaN   22  \n",
       "...                    ...                  ...  ...  \n",
       "238517                 NaN                  NaN   15  \n",
       "238518                 NaN                  NaN   14  \n",
       "238519                 NaN                  NaN   13  \n",
       "238520                 NaN                  NaN   17  \n",
       "238521                 NaN                  NaN   16  \n",
       "\n",
       "[238522 rows x 25 columns]"
      ]
     },
     "execution_count": 13,
     "metadata": {},
     "output_type": "execute_result"
    }
   ],
   "source": [
    "df"
   ]
  },
  {
   "cell_type": "code",
   "execution_count": 14,
   "metadata": {},
   "outputs": [],
   "source": [
    "var_accidentes_xdia =(df\n",
    ".groupby(\"HOUR\").agg(accidentes=(\"HOUR\",\"count\")))"
   ]
  },
  {
   "cell_type": "code",
   "execution_count": 15,
   "metadata": {},
   "outputs": [
    {
     "data": {
      "text/plain": [
       "<AxesSubplot:xlabel='HOUR'>"
      ]
     },
     "execution_count": 15,
     "metadata": {},
     "output_type": "execute_result"
    },
    {
     "data": {
      "image/png": "[encoded data removed]",
      "text/plain": [
       "<Figure size 432x288 with 1 Axes>"
      ]
     },
     "metadata": {
      "needs_background": "light"
     },
     "output_type": "display_data"
    }
   ],
   "source": [
    "var_accidentes_xdia.plot.bar()"
   ]
  },
  {
   "cell_type": "markdown",
   "metadata": {},
   "source": []
  },
  {
   "cell_type": "markdown",
   "metadata": {},
   "source": [
    "### Exercise 5 (15 min):\n",
    "\n",
    "En la pregunta anterior hemos agregado el número de accidentes por hora sin tener en cuenta la fecha y el lugar en que ocurrieron. ¿Qué crítica le daría a este enfoque?"
   ]
  },
  {
   "cell_type": "markdown",
   "metadata": {},
   "source": [
    "**Answer.** \n"
   ]
  },
  {
   "cell_type": "code",
   "execution_count": 16,
   "metadata": {},
   "outputs": [],
   "source": [
    "#Es importante tener en cuenta la fecha debido a que hay fechas en las cuales se puede determinar en que estacion del año y \n",
    "#en que fechas festivas pueden haber mas accidentes por hielo o festividades como navidad o mas trafico en dias \n",
    "#del año donde hace mas calor"
   ]
  },
  {
   "cell_type": "markdown",
   "metadata": {},
   "source": [
    "### Exercise 6 (15 min):\n",
    "\n",
    "¿Cómo varía el número de accidentes en una sola semana? Trace un gráfico de barras basado en el recuento de accidentes por día de la semana.\n",
    "\n",
    "**Sugerencia:** Puede encontrar útil la función ```dt.weekday```."
   ]
  },
  {
   "cell_type": "markdown",
   "metadata": {},
   "source": [
    "**Answer.**"
   ]
  },
  {
   "cell_type": "code",
   "execution_count": 17,
   "metadata": {},
   "outputs": [],
   "source": [
    "df[\"WEEK\"]= df[\"DATE\"].dt.weekday"
   ]
  },
  {
   "cell_type": "code",
   "execution_count": 18,
   "metadata": {},
   "outputs": [
    {
     "data": {
      "text/plain": [
       "0         2\n",
       "1         1\n",
       "2         3\n",
       "3         6\n",
       "4         1\n",
       "         ..\n",
       "238517    5\n",
       "238518    3\n",
       "238519    5\n",
       "238520    0\n",
       "238521    1\n",
       "Name: WEEK, Length: 238522, dtype: int64"
      ]
     },
     "execution_count": 18,
     "metadata": {},
     "output_type": "execute_result"
    }
   ],
   "source": [
    "df[\"WEEK\"]"
   ]
  },
  {
   "cell_type": "code",
   "execution_count": 19,
   "metadata": {},
   "outputs": [],
   "source": [
    "variacion_accidentes_sem =(df.groupby(\"WEEK\").agg(accidentes=(\"WEEK\", \"count\")))"
   ]
  },
  {
   "cell_type": "code",
   "execution_count": 20,
   "metadata": {},
   "outputs": [
    {
     "data": {
      "text/plain": [
       "<AxesSubplot:xlabel='WEEK'>"
      ]
     },
     "execution_count": 20,
     "metadata": {},
     "output_type": "execute_result"
    },
    {
     "data": {
      "image/png": "[encoded data removed]",
      "text/plain": [
       "<Figure size 432x288 with 1 Axes>"
      ]
     },
     "metadata": {
      "needs_background": "light"
     },
     "output_type": "display_data"
    }
   ],
   "source": [
    "variacion_accidentes_sem.plot.bar() "
   ]
  },
  {
   "cell_type": "markdown",
   "metadata": {},
   "source": []
  },
  {
   "cell_type": "markdown",
   "metadata": {},
   "source": [
    "### Exercise 7 (30 min):\n",
    "\n",
    "Trace una gráfica de barras del número total de accidentes en cada municipio, así como uno de los accidentes por milla cuadrada por municipio. ¿Qué puedes concluir?\n",
    "\n",
    "**Sugerencia:** Es posible que desee actualizar algunas de las claves en el diccionario del municipio para que coincidan con los nombres en el marco de datos."
   ]
  },
  {
   "cell_type": "markdown",
   "metadata": {},
   "source": [
    "**Answer.**"
   ]
  },
  {
   "cell_type": "code",
   "execution_count": 21,
   "metadata": {},
   "outputs": [
    {
     "data": {
      "text/html": [
       "<div>\n",
       "<style scoped>\n",
       "    .dataframe tbody tr th:only-of-type {\n",
       "        vertical-align: middle;\n",
       "    }\n",
       "\n",
       "    .dataframe tbody tr th {\n",
       "        vertical-align: top;\n",
       "    }\n",
       "\n",
       "    .dataframe thead th {\n",
       "        text-align: right;\n",
       "    }\n",
       "</style>\n",
       "<table border=\"1\" class=\"dataframe\">\n",
       "  <thead>\n",
       "    <tr style=\"text-align: right;\">\n",
       "      <th></th>\n",
       "      <th>accidentes</th>\n",
       "    </tr>\n",
       "    <tr>\n",
       "      <th>BOROUGH</th>\n",
       "      <th></th>\n",
       "    </tr>\n",
       "  </thead>\n",
       "  <tbody>\n",
       "    <tr>\n",
       "      <th>BRONX</th>\n",
       "      <td>37709</td>\n",
       "    </tr>\n",
       "    <tr>\n",
       "      <th>BROOKLYN</th>\n",
       "      <td>76253</td>\n",
       "    </tr>\n",
       "    <tr>\n",
       "      <th>MANHATTAN</th>\n",
       "      <td>48749</td>\n",
       "    </tr>\n",
       "    <tr>\n",
       "      <th>QUEENS</th>\n",
       "      <td>67120</td>\n",
       "    </tr>\n",
       "    <tr>\n",
       "      <th>STATEN ISLAND</th>\n",
       "      <td>8691</td>\n",
       "    </tr>\n",
       "  </tbody>\n",
       "</table>\n",
       "</div>"
      ],
      "text/plain": [
       "               accidentes\n",
       "BOROUGH                  \n",
       "BRONX               37709\n",
       "BROOKLYN            76253\n",
       "MANHATTAN           48749\n",
       "QUEENS              67120\n",
       "STATEN ISLAND        8691"
      ]
     },
     "execution_count": 21,
     "metadata": {},
     "output_type": "execute_result"
    }
   ],
   "source": [
    "accidentes_municipio = (df.groupby('BOROUGH').agg(accidentes=('BOROUGH','count')))\n",
    "accidentes_municipio\n",
    "                "
   ]
  },
  {
   "cell_type": "markdown",
   "metadata": {},
   "source": []
  },
  {
   "cell_type": "code",
   "execution_count": 22,
   "metadata": {},
   "outputs": [
    {
     "data": {
      "text/plain": [
       "<AxesSubplot:xlabel='BOROUGH'>"
      ]
     },
     "execution_count": 22,
     "metadata": {},
     "output_type": "execute_result"
    },
    {
     "data": {
      "image/png": "[encoded data removed]",
      "text/plain": [
       "<Figure size 432x288 with 1 Axes>"
      ]
     },
     "metadata": {
      "needs_background": "light"
     },
     "output_type": "display_data"
    }
   ],
   "source": [
    "accidentes_municipio.plot.bar()"
   ]
  },
  {
   "cell_type": "markdown",
   "metadata": {},
   "source": [
    "\n",
    "\n"
   ]
  },
  {
   "cell_type": "code",
   "execution_count": 23,
   "metadata": {},
   "outputs": [
    {
     "data": {
      "text/html": [
       "<div>\n",
       "<style scoped>\n",
       "    .dataframe tbody tr th:only-of-type {\n",
       "        vertical-align: middle;\n",
       "    }\n",
       "\n",
       "    .dataframe tbody tr th {\n",
       "        vertical-align: top;\n",
       "    }\n",
       "\n",
       "    .dataframe thead th {\n",
       "        text-align: right;\n",
       "    }\n",
       "</style>\n",
       "<table border=\"1\" class=\"dataframe\">\n",
       "  <thead>\n",
       "    <tr style=\"text-align: right;\">\n",
       "      <th></th>\n",
       "      <th>accidentes</th>\n",
       "    </tr>\n",
       "    <tr>\n",
       "      <th>BOROUGH</th>\n",
       "      <th></th>\n",
       "    </tr>\n",
       "  </thead>\n",
       "  <tbody>\n",
       "    <tr>\n",
       "      <th>BRONX</th>\n",
       "      <td>37709</td>\n",
       "    </tr>\n",
       "    <tr>\n",
       "      <th>BROOKLYN</th>\n",
       "      <td>76253</td>\n",
       "    </tr>\n",
       "    <tr>\n",
       "      <th>MANHATTAN</th>\n",
       "      <td>48749</td>\n",
       "    </tr>\n",
       "    <tr>\n",
       "      <th>QUEENS</th>\n",
       "      <td>67120</td>\n",
       "    </tr>\n",
       "    <tr>\n",
       "      <th>STATEN ISLAND</th>\n",
       "      <td>8691</td>\n",
       "    </tr>\n",
       "  </tbody>\n",
       "</table>\n",
       "</div>"
      ],
      "text/plain": [
       "               accidentes\n",
       "BOROUGH                  \n",
       "BRONX               37709\n",
       "BROOKLYN            76253\n",
       "MANHATTAN           48749\n",
       "QUEENS              67120\n",
       "STATEN ISLAND        8691"
      ]
     },
     "execution_count": 23,
     "metadata": {},
     "output_type": "execute_result"
    }
   ],
   "source": [
    "accidentes_municipi = (df.groupby('ZIP CODE').agg(accidentes=('ZIP CODE', 'count')))\n",
    "accidentes_municipio"
   ]
  },
  {
   "cell_type": "markdown",
   "metadata": {},
   "source": []
  },
  {
   "cell_type": "markdown",
   "metadata": {},
   "source": []
  },
  {
   "cell_type": "markdown",
   "metadata": {},
   "source": [
    "### Exercise 8 (30 min):\n",
    "\n",
    "¿Qué horas tienen más accidentes en cada municipio? Trace un gráfico de barras para cada municipio que muestre el número de accidentes por cada hora del día.\n",
    "\n",
    "**Sugerencia:** Puede usar ```sns.FacetGrid``` para crear una cuadrícula de parcelas con los datos por hora de cada municipio."
   ]
  },
  {
   "cell_type": "markdown",
   "metadata": {},
   "source": [
    "**Answer.**"
   ]
  },
  {
   "cell_type": "code",
   "execution_count": 36,
   "metadata": {},
   "outputs": [],
   "source": [
    "import seaborn as sns\n",
    "import pandas as pd\n",
    "import matplotlib.pyplot as plt"
   ]
  },
  {
   "cell_type": "code",
   "execution_count": 37,
   "metadata": {},
   "outputs": [],
   "source": [
    "df1 = pd.DataFrame({\"count\": df.groupby([\"BOROUGH\", \"HOUR\"]).size()})"
   ]
  },
  {
   "cell_type": "code",
   "execution_count": 38,
   "metadata": {},
   "outputs": [
    {
     "data": {
      "text/html": [
       "<div>\n",
       "<style scoped>\n",
       "    .dataframe tbody tr th:only-of-type {\n",
       "        vertical-align: middle;\n",
       "    }\n",
       "\n",
       "    .dataframe tbody tr th {\n",
       "        vertical-align: top;\n",
       "    }\n",
       "\n",
       "    .dataframe thead th {\n",
       "        text-align: right;\n",
       "    }\n",
       "</style>\n",
       "<table border=\"1\" class=\"dataframe\">\n",
       "  <thead>\n",
       "    <tr style=\"text-align: right;\">\n",
       "      <th></th>\n",
       "      <th></th>\n",
       "      <th>count</th>\n",
       "    </tr>\n",
       "    <tr>\n",
       "      <th>BOROUGH</th>\n",
       "      <th>HOUR</th>\n",
       "      <th></th>\n",
       "    </tr>\n",
       "  </thead>\n",
       "  <tbody>\n",
       "    <tr>\n",
       "      <th rowspan=\"5\" valign=\"top\">BRONX</th>\n",
       "      <th>0</th>\n",
       "      <td>1329</td>\n",
       "    </tr>\n",
       "    <tr>\n",
       "      <th>1</th>\n",
       "      <td>529</td>\n",
       "    </tr>\n",
       "    <tr>\n",
       "      <th>2</th>\n",
       "      <td>402</td>\n",
       "    </tr>\n",
       "    <tr>\n",
       "      <th>3</th>\n",
       "      <td>361</td>\n",
       "    </tr>\n",
       "    <tr>\n",
       "      <th>4</th>\n",
       "      <td>418</td>\n",
       "    </tr>\n",
       "    <tr>\n",
       "      <th>...</th>\n",
       "      <th>...</th>\n",
       "      <td>...</td>\n",
       "    </tr>\n",
       "    <tr>\n",
       "      <th rowspan=\"5\" valign=\"top\">STATEN ISLAND</th>\n",
       "      <th>19</th>\n",
       "      <td>415</td>\n",
       "    </tr>\n",
       "    <tr>\n",
       "      <th>20</th>\n",
       "      <td>367</td>\n",
       "    </tr>\n",
       "    <tr>\n",
       "      <th>21</th>\n",
       "      <td>268</td>\n",
       "    </tr>\n",
       "    <tr>\n",
       "      <th>22</th>\n",
       "      <td>224</td>\n",
       "    </tr>\n",
       "    <tr>\n",
       "      <th>23</th>\n",
       "      <td>174</td>\n",
       "    </tr>\n",
       "  </tbody>\n",
       "</table>\n",
       "<p>120 rows × 1 columns</p>\n",
       "</div>"
      ],
      "text/plain": [
       "                    count\n",
       "BOROUGH       HOUR       \n",
       "BRONX         0      1329\n",
       "              1       529\n",
       "              2       402\n",
       "              3       361\n",
       "              4       418\n",
       "...                   ...\n",
       "STATEN ISLAND 19      415\n",
       "              20      367\n",
       "              21      268\n",
       "              22      224\n",
       "              23      174\n",
       "\n",
       "[120 rows x 1 columns]"
      ]
     },
     "execution_count": 38,
     "metadata": {},
     "output_type": "execute_result"
    }
   ],
   "source": [
    "df1"
   ]
  },
  {
   "cell_type": "code",
   "execution_count": 40,
   "metadata": {},
   "outputs": [
    {
     "data": {
      "image/png": "[encoded data removed]",
      "text/plain": [
       "<Figure size 432x288 with 1 Axes>"
      ]
     },
     "metadata": {
      "needs_background": "light"
     },
     "output_type": "display_data"
    }
   ],
   "source": [
    "x = sns.barplot(x = \"HOUR\" , y =\"BOROUGH\", data = df)\n"
   ]
  },
  {
   "cell_type": "code",
   "execution_count": null,
   "metadata": {},
   "outputs": [],
   "source": []
  },
  {
   "cell_type": "markdown",
   "metadata": {},
   "source": [
    "**¿Es mayor el número de accidentes en diferentes momentos en diferentes distritos? ¿Deberíamos concentrarnos en diferentes momentos para cada municipio?**"
   ]
  },
  {
   "cell_type": "markdown",
   "metadata": {},
   "source": []
  },
  {
   "cell_type": "markdown",
   "metadata": {},
   "source": [
    "### Exercise 9 (45 min):\n",
    "\n",
    "¿Qué factores provocan la mayoría de los accidentes? Evite contar dos veces los factores que contribuyen a un solo accidente.\n",
    "\n",
    "**Sugerencia:** Una forma de lidiar con las repeticiones es concatenar las columnas correspondientes conservando sus índices, puede hacerlo con las funciones ```pd.concat()``` y ```reset_index()```. Luego, use un ```group_by``` apropiado para contar el número de repeticiones de factores contribuidos por accidente."
   ]
  },
  {
   "cell_type": "markdown",
   "metadata": {},
   "source": [
    "**Answer**.\n"
   ]
  },
  {
   "cell_type": "code",
   "execution_count": 43,
   "metadata": {},
   "outputs": [
    {
     "data": {
      "text/html": [
       "<div>\n",
       "<style scoped>\n",
       "    .dataframe tbody tr th:only-of-type {\n",
       "        vertical-align: middle;\n",
       "    }\n",
       "\n",
       "    .dataframe tbody tr th {\n",
       "        vertical-align: top;\n",
       "    }\n",
       "\n",
       "    .dataframe thead th {\n",
       "        text-align: right;\n",
       "    }\n",
       "</style>\n",
       "<table border=\"1\" class=\"dataframe\">\n",
       "  <thead>\n",
       "    <tr style=\"text-align: right;\">\n",
       "      <th></th>\n",
       "      <th>DATE</th>\n",
       "      <th>TIME</th>\n",
       "      <th>BOROUGH</th>\n",
       "      <th>ZIP CODE</th>\n",
       "      <th>LATITUDE</th>\n",
       "      <th>LONGITUDE</th>\n",
       "      <th>ON STREET NAME</th>\n",
       "      <th>NUMBER OF PEDESTRIANS INJURED</th>\n",
       "      <th>NUMBER OF PEDESTRIANS KILLED</th>\n",
       "      <th>NUMBER OF CYCLIST INJURED</th>\n",
       "      <th>...</th>\n",
       "      <th>CONTRIBUTING FACTOR VEHICLE 4</th>\n",
       "      <th>CONTRIBUTING FACTOR VEHICLE 5</th>\n",
       "      <th>COLLISION_ID</th>\n",
       "      <th>VEHICLE TYPE CODE 1</th>\n",
       "      <th>VEHICLE TYPE CODE 2</th>\n",
       "      <th>VEHICLE TYPE CODE 3</th>\n",
       "      <th>VEHICLE TYPE CODE 4</th>\n",
       "      <th>VEHICLE TYPE CODE 5</th>\n",
       "      <th>HOUR</th>\n",
       "      <th>WEEK</th>\n",
       "    </tr>\n",
       "  </thead>\n",
       "  <tbody>\n",
       "    <tr>\n",
       "      <th>0</th>\n",
       "      <td>2018-09-26</td>\n",
       "      <td>2021-08-14 12:12:00</td>\n",
       "      <td>BRONX</td>\n",
       "      <td>10454.0</td>\n",
       "      <td>40.808987</td>\n",
       "      <td>-73.911316</td>\n",
       "      <td>NaN</td>\n",
       "      <td>0</td>\n",
       "      <td>0</td>\n",
       "      <td>0</td>\n",
       "      <td>...</td>\n",
       "      <td>NaN</td>\n",
       "      <td>NaN</td>\n",
       "      <td>3988123</td>\n",
       "      <td>Sedan</td>\n",
       "      <td>NaN</td>\n",
       "      <td>NaN</td>\n",
       "      <td>NaN</td>\n",
       "      <td>NaN</td>\n",
       "      <td>12</td>\n",
       "      <td>2</td>\n",
       "    </tr>\n",
       "    <tr>\n",
       "      <th>1</th>\n",
       "      <td>2018-09-25</td>\n",
       "      <td>2021-08-14 16:30:00</td>\n",
       "      <td>BROOKLYN</td>\n",
       "      <td>11236.0</td>\n",
       "      <td>40.636005</td>\n",
       "      <td>-73.912510</td>\n",
       "      <td>FLATLANDS AVENUE</td>\n",
       "      <td>1</td>\n",
       "      <td>0</td>\n",
       "      <td>0</td>\n",
       "      <td>...</td>\n",
       "      <td>NaN</td>\n",
       "      <td>NaN</td>\n",
       "      <td>3987962</td>\n",
       "      <td>Sedan</td>\n",
       "      <td>NaN</td>\n",
       "      <td>NaN</td>\n",
       "      <td>NaN</td>\n",
       "      <td>NaN</td>\n",
       "      <td>16</td>\n",
       "      <td>1</td>\n",
       "    </tr>\n",
       "    <tr>\n",
       "      <th>2</th>\n",
       "      <td>2019-08-22</td>\n",
       "      <td>2021-08-14 19:30:00</td>\n",
       "      <td>QUEENS</td>\n",
       "      <td>11101.0</td>\n",
       "      <td>40.755490</td>\n",
       "      <td>-73.939530</td>\n",
       "      <td>NaN</td>\n",
       "      <td>0</td>\n",
       "      <td>0</td>\n",
       "      <td>0</td>\n",
       "      <td>...</td>\n",
       "      <td>NaN</td>\n",
       "      <td>NaN</td>\n",
       "      <td>4193132</td>\n",
       "      <td>Sedan</td>\n",
       "      <td>NaN</td>\n",
       "      <td>NaN</td>\n",
       "      <td>NaN</td>\n",
       "      <td>NaN</td>\n",
       "      <td>19</td>\n",
       "      <td>3</td>\n",
       "    </tr>\n",
       "    <tr>\n",
       "      <th>3</th>\n",
       "      <td>2018-09-23</td>\n",
       "      <td>2021-08-14 13:10:00</td>\n",
       "      <td>QUEENS</td>\n",
       "      <td>11367.0</td>\n",
       "      <td>NaN</td>\n",
       "      <td>NaN</td>\n",
       "      <td>MAIN STREET</td>\n",
       "      <td>0</td>\n",
       "      <td>0</td>\n",
       "      <td>1</td>\n",
       "      <td>...</td>\n",
       "      <td>NaN</td>\n",
       "      <td>NaN</td>\n",
       "      <td>3985962</td>\n",
       "      <td>Bike</td>\n",
       "      <td>Station Wagon/Sport Utility Vehicle</td>\n",
       "      <td>NaN</td>\n",
       "      <td>NaN</td>\n",
       "      <td>NaN</td>\n",
       "      <td>13</td>\n",
       "      <td>6</td>\n",
       "    </tr>\n",
       "    <tr>\n",
       "      <th>4</th>\n",
       "      <td>2019-08-20</td>\n",
       "      <td>2021-08-14 22:40:00</td>\n",
       "      <td>BRONX</td>\n",
       "      <td>10468.0</td>\n",
       "      <td>40.868336</td>\n",
       "      <td>-73.901270</td>\n",
       "      <td>NaN</td>\n",
       "      <td>0</td>\n",
       "      <td>0</td>\n",
       "      <td>0</td>\n",
       "      <td>...</td>\n",
       "      <td>NaN</td>\n",
       "      <td>NaN</td>\n",
       "      <td>4192111</td>\n",
       "      <td>Sedan</td>\n",
       "      <td>Sedan</td>\n",
       "      <td>NaN</td>\n",
       "      <td>NaN</td>\n",
       "      <td>NaN</td>\n",
       "      <td>22</td>\n",
       "      <td>1</td>\n",
       "    </tr>\n",
       "    <tr>\n",
       "      <th>...</th>\n",
       "      <td>...</td>\n",
       "      <td>...</td>\n",
       "      <td>...</td>\n",
       "      <td>...</td>\n",
       "      <td>...</td>\n",
       "      <td>...</td>\n",
       "      <td>...</td>\n",
       "      <td>...</td>\n",
       "      <td>...</td>\n",
       "      <td>...</td>\n",
       "      <td>...</td>\n",
       "      <td>...</td>\n",
       "      <td>...</td>\n",
       "      <td>...</td>\n",
       "      <td>...</td>\n",
       "      <td>...</td>\n",
       "      <td>...</td>\n",
       "      <td>...</td>\n",
       "      <td>...</td>\n",
       "      <td>...</td>\n",
       "      <td>...</td>\n",
       "    </tr>\n",
       "    <tr>\n",
       "      <th>238517</th>\n",
       "      <td>2018-01-20</td>\n",
       "      <td>2021-08-14 15:00:00</td>\n",
       "      <td>QUEENS</td>\n",
       "      <td>11436.0</td>\n",
       "      <td>40.685356</td>\n",
       "      <td>-73.797230</td>\n",
       "      <td>LINDEN BOULEVARD</td>\n",
       "      <td>0</td>\n",
       "      <td>0</td>\n",
       "      <td>0</td>\n",
       "      <td>...</td>\n",
       "      <td>NaN</td>\n",
       "      <td>NaN</td>\n",
       "      <td>3832275</td>\n",
       "      <td>SPORT UTILITY / STATION WAGON</td>\n",
       "      <td>PASSENGER VEHICLE</td>\n",
       "      <td>NaN</td>\n",
       "      <td>NaN</td>\n",
       "      <td>NaN</td>\n",
       "      <td>15</td>\n",
       "      <td>5</td>\n",
       "    </tr>\n",
       "    <tr>\n",
       "      <th>238518</th>\n",
       "      <td>2018-01-04</td>\n",
       "      <td>2021-08-14 14:00:00</td>\n",
       "      <td>BRONX</td>\n",
       "      <td>10452.0</td>\n",
       "      <td>40.845180</td>\n",
       "      <td>-73.914170</td>\n",
       "      <td>JEROME AVENUE</td>\n",
       "      <td>0</td>\n",
       "      <td>0</td>\n",
       "      <td>0</td>\n",
       "      <td>...</td>\n",
       "      <td>NaN</td>\n",
       "      <td>NaN</td>\n",
       "      <td>3822315</td>\n",
       "      <td>SPORT UTILITY / STATION WAGON</td>\n",
       "      <td>NaN</td>\n",
       "      <td>NaN</td>\n",
       "      <td>NaN</td>\n",
       "      <td>NaN</td>\n",
       "      <td>14</td>\n",
       "      <td>3</td>\n",
       "    </tr>\n",
       "    <tr>\n",
       "      <th>238519</th>\n",
       "      <td>2018-01-20</td>\n",
       "      <td>2021-08-14 13:05:00</td>\n",
       "      <td>BRONX</td>\n",
       "      <td>10462.0</td>\n",
       "      <td>40.831210</td>\n",
       "      <td>-73.850876</td>\n",
       "      <td>CASTLE HILL AVENUE</td>\n",
       "      <td>0</td>\n",
       "      <td>0</td>\n",
       "      <td>0</td>\n",
       "      <td>...</td>\n",
       "      <td>NaN</td>\n",
       "      <td>NaN</td>\n",
       "      <td>3832513</td>\n",
       "      <td>PASSENGER VEHICLE</td>\n",
       "      <td>SPORT UTILITY / STATION WAGON</td>\n",
       "      <td>NaN</td>\n",
       "      <td>NaN</td>\n",
       "      <td>NaN</td>\n",
       "      <td>13</td>\n",
       "      <td>5</td>\n",
       "    </tr>\n",
       "    <tr>\n",
       "      <th>238520</th>\n",
       "      <td>2018-01-29</td>\n",
       "      <td>2021-08-14 17:45:00</td>\n",
       "      <td>QUEENS</td>\n",
       "      <td>11377.0</td>\n",
       "      <td>40.757250</td>\n",
       "      <td>-73.904854</td>\n",
       "      <td>31 AVENUE</td>\n",
       "      <td>0</td>\n",
       "      <td>0</td>\n",
       "      <td>0</td>\n",
       "      <td>...</td>\n",
       "      <td>NaN</td>\n",
       "      <td>NaN</td>\n",
       "      <td>3837608</td>\n",
       "      <td>SPORT UTILITY / STATION WAGON</td>\n",
       "      <td>PASSENGER VEHICLE</td>\n",
       "      <td>NaN</td>\n",
       "      <td>NaN</td>\n",
       "      <td>NaN</td>\n",
       "      <td>17</td>\n",
       "      <td>0</td>\n",
       "    </tr>\n",
       "    <tr>\n",
       "      <th>238521</th>\n",
       "      <td>2018-01-23</td>\n",
       "      <td>2021-08-14 16:38:00</td>\n",
       "      <td>BROOKLYN</td>\n",
       "      <td>11211.0</td>\n",
       "      <td>40.710197</td>\n",
       "      <td>-73.958430</td>\n",
       "      <td>HAVEMEYER STREET</td>\n",
       "      <td>0</td>\n",
       "      <td>0</td>\n",
       "      <td>0</td>\n",
       "      <td>...</td>\n",
       "      <td>NaN</td>\n",
       "      <td>NaN</td>\n",
       "      <td>3833631</td>\n",
       "      <td>SPORT UTILITY / STATION WAGON</td>\n",
       "      <td>SPORT UTILITY / STATION WAGON</td>\n",
       "      <td>NaN</td>\n",
       "      <td>NaN</td>\n",
       "      <td>NaN</td>\n",
       "      <td>16</td>\n",
       "      <td>1</td>\n",
       "    </tr>\n",
       "  </tbody>\n",
       "</table>\n",
       "<p>238522 rows × 26 columns</p>\n",
       "</div>"
      ],
      "text/plain": [
       "             DATE                TIME   BOROUGH  ZIP CODE   LATITUDE  \\\n",
       "0      2018-09-26 2021-08-14 12:12:00     BRONX   10454.0  40.808987   \n",
       "1      2018-09-25 2021-08-14 16:30:00  BROOKLYN   11236.0  40.636005   \n",
       "2      2019-08-22 2021-08-14 19:30:00    QUEENS   11101.0  40.755490   \n",
       "3      2018-09-23 2021-08-14 13:10:00    QUEENS   11367.0        NaN   \n",
       "4      2019-08-20 2021-08-14 22:40:00     BRONX   10468.0  40.868336   \n",
       "...           ...                 ...       ...       ...        ...   \n",
       "238517 2018-01-20 2021-08-14 15:00:00    QUEENS   11436.0  40.685356   \n",
       "238518 2018-01-04 2021-08-14 14:00:00     BRONX   10452.0  40.845180   \n",
       "238519 2018-01-20 2021-08-14 13:05:00     BRONX   10462.0  40.831210   \n",
       "238520 2018-01-29 2021-08-14 17:45:00    QUEENS   11377.0  40.757250   \n",
       "238521 2018-01-23 2021-08-14 16:38:00  BROOKLYN   11211.0  40.710197   \n",
       "\n",
       "        LONGITUDE                    ON STREET NAME  \\\n",
       "0      -73.911316                               NaN   \n",
       "1      -73.912510  FLATLANDS AVENUE                   \n",
       "2      -73.939530                               NaN   \n",
       "3             NaN  MAIN STREET                        \n",
       "4      -73.901270                               NaN   \n",
       "...           ...                               ...   \n",
       "238517 -73.797230  LINDEN BOULEVARD                   \n",
       "238518 -73.914170  JEROME AVENUE                      \n",
       "238519 -73.850876  CASTLE HILL AVENUE                 \n",
       "238520 -73.904854  31 AVENUE                          \n",
       "238521 -73.958430  HAVEMEYER STREET                   \n",
       "\n",
       "        NUMBER OF PEDESTRIANS INJURED  NUMBER OF PEDESTRIANS KILLED  \\\n",
       "0                                   0                             0   \n",
       "1                                   1                             0   \n",
       "2                                   0                             0   \n",
       "3                                   0                             0   \n",
       "4                                   0                             0   \n",
       "...                               ...                           ...   \n",
       "238517                              0                             0   \n",
       "238518                              0                             0   \n",
       "238519                              0                             0   \n",
       "238520                              0                             0   \n",
       "238521                              0                             0   \n",
       "\n",
       "        NUMBER OF CYCLIST INJURED  ...  CONTRIBUTING FACTOR VEHICLE 4  \\\n",
       "0                               0  ...                            NaN   \n",
       "1                               0  ...                            NaN   \n",
       "2                               0  ...                            NaN   \n",
       "3                               1  ...                            NaN   \n",
       "4                               0  ...                            NaN   \n",
       "...                           ...  ...                            ...   \n",
       "238517                          0  ...                            NaN   \n",
       "238518                          0  ...                            NaN   \n",
       "238519                          0  ...                            NaN   \n",
       "238520                          0  ...                            NaN   \n",
       "238521                          0  ...                            NaN   \n",
       "\n",
       "        CONTRIBUTING FACTOR VEHICLE 5  COLLISION_ID  \\\n",
       "0                                 NaN       3988123   \n",
       "1                                 NaN       3987962   \n",
       "2                                 NaN       4193132   \n",
       "3                                 NaN       3985962   \n",
       "4                                 NaN       4192111   \n",
       "...                               ...           ...   \n",
       "238517                            NaN       3832275   \n",
       "238518                            NaN       3822315   \n",
       "238519                            NaN       3832513   \n",
       "238520                            NaN       3837608   \n",
       "238521                            NaN       3833631   \n",
       "\n",
       "                  VEHICLE TYPE CODE 1                  VEHICLE TYPE CODE 2  \\\n",
       "0                               Sedan                                  NaN   \n",
       "1                               Sedan                                  NaN   \n",
       "2                               Sedan                                  NaN   \n",
       "3                                Bike  Station Wagon/Sport Utility Vehicle   \n",
       "4                               Sedan                                Sedan   \n",
       "...                               ...                                  ...   \n",
       "238517  SPORT UTILITY / STATION WAGON                    PASSENGER VEHICLE   \n",
       "238518  SPORT UTILITY / STATION WAGON                                  NaN   \n",
       "238519              PASSENGER VEHICLE        SPORT UTILITY / STATION WAGON   \n",
       "238520  SPORT UTILITY / STATION WAGON                    PASSENGER VEHICLE   \n",
       "238521  SPORT UTILITY / STATION WAGON        SPORT UTILITY / STATION WAGON   \n",
       "\n",
       "       VEHICLE TYPE CODE 3 VEHICLE TYPE CODE 4 VEHICLE TYPE CODE 5  HOUR WEEK  \n",
       "0                      NaN                 NaN                 NaN    12    2  \n",
       "1                      NaN                 NaN                 NaN    16    1  \n",
       "2                      NaN                 NaN                 NaN    19    3  \n",
       "3                      NaN                 NaN                 NaN    13    6  \n",
       "4                      NaN                 NaN                 NaN    22    1  \n",
       "...                    ...                 ...                 ...   ...  ...  \n",
       "238517                 NaN                 NaN                 NaN    15    5  \n",
       "238518                 NaN                 NaN                 NaN    14    3  \n",
       "238519                 NaN                 NaN                 NaN    13    5  \n",
       "238520                 NaN                 NaN                 NaN    17    0  \n",
       "238521                 NaN                 NaN                 NaN    16    1  \n",
       "\n",
       "[238522 rows x 26 columns]"
      ]
     },
     "execution_count": 43,
     "metadata": {},
     "output_type": "execute_result"
    }
   ],
   "source": [
    "df"
   ]
  },
  {
   "cell_type": "markdown",
   "metadata": {},
   "source": [
    "### Exercise 10 (45 min):\n",
    "\n",
    "¿Qué tipos de vehículos están más involucrados en accidentes por municipio? Evite contar dos veces el tipo de vehículos presentes en un solo accidente.\n",
    "\n",
    "**Sugerencia:** Puede aplicar un enfoque similar al utilizado en la pregunta anterior."
   ]
  },
  {
   "cell_type": "markdown",
   "metadata": {},
   "source": [
    "**Answer.** "
   ]
  },
  {
   "cell_type": "code",
   "execution_count": null,
   "metadata": {},
   "outputs": [],
   "source": []
  },
  {
   "cell_type": "markdown",
   "metadata": {},
   "source": []
  },
  {
   "cell_type": "markdown",
   "metadata": {},
   "source": [
    "### Exercise 11 (15 min):\n",
    "\n",
    "En 2018 para una [entrevista](https://www.nytimes.com/2019/01/01/nyregion/traffic-deaths-decrease-nyc.html) con The New York Times, el alcalde de Blasio de Nueva York declaró que *'Vision Zero está funcionando claramente'*. Ese año, el número de muertes en accidentes de tráfico en Nueva York se redujo a un histórico 202. Sin embargo, según lo informado por [am New York Metro](https://www.amny.com/news/vision-zero-de-blasio- 1-30707464 /), el número de víctimas mortales ha aumentado un 30% en el primer trimestre de 2019 en comparación con el año anterior y el número de peatones y ciclistas heridos no ha experimentado ninguna mejora.\n",
    "\n",
    "¿Cómo utilizaría los datos proporcionados para comprender qué salió mal en el primer trimestre de 2019?\n",
    "\n",
    "\n",
    "> - [ ] Considere los accidentes del primer trimestre de 2019. Luego, busque las causas más comunes de accidentes en los que estuvieron involucrados peatones y ciclistas. Dé una recomendación basada únicamente en esta información.\n",
    "\n",
    "> - [ ] Cree un par de mapas de calor de los accidentes que involucraron a peatones y ciclistas lesionados / muertos en el primer trimestre de 2018 y 2019. Compare estos dos para ver si hay algún cambio en la concentración de accidentes. En áreas críticas, estudie el tipo de factores involucrados en los accidentes. Dé una recomendación para visitar estas áreas para estudiar más el problema.   \n",
    "\n",
    "> - [ ] Los datos proporcionados son insuficientes para mejorar nuestra comprensión de la situación.\n",
    "\n",
    "> - [ ] Ninguna de las anteriores. Haría lo siguiente: *aquí tu respuesta recomendada*."
   ]
  },
  {
   "cell_type": "markdown",
   "metadata": {},
   "source": [
    "**Answer.**\n"
   ]
  },
  {
   "cell_type": "code",
   "execution_count": null,
   "metadata": {},
   "outputs": [],
   "source": []
  },
  {
   "cell_type": "markdown",
   "metadata": {},
   "source": [
    "### Exercise 12 (45 min):\n",
    "\n",
    "Calcula el número de muertes provocadas por cada tipo de vehículo. Trace un gráfico de barras para los 5 vehículos principales. ¿Qué vehículos están involucrados con mayor frecuencia en las muertes y cuánto más que los demás?\n",
    "\n",
    "**Por ejemplo,** si dos personas murieron en un accidente en el que estuvieron involucrados 5 vehículos: 4 son VEHÍCULOS DE PASAJEROS y 1 es un VAGÓN DEPORTIVO / ESTACIÓN. Luego, agregaríamos dos muertes a cada tipo de VEHÍCULO DE PASAJEROS y VAGÓN DE ESTACIÓN / SERVICIO DEPORTIVO.\n",
    "\n",
    "**Sugerencia:** Es posible que desee crear una nueva columna con el número total de muertes en el accidente. Para eso, puede encontrar útil la función ```.to_numpy()```. Luego, proceda como los ejercicios anteriores para evitar contabilizar dos veces el tipo de vehículos."
   ]
  },
  {
   "cell_type": "markdown",
   "metadata": {},
   "source": [
    "**Answer.**"
   ]
  },
  {
   "cell_type": "code",
   "execution_count": null,
   "metadata": {},
   "outputs": [],
   "source": []
  },
  {
   "cell_type": "markdown",
   "metadata": {},
   "source": []
  },
  {
   "cell_type": "code",
   "execution_count": null,
   "metadata": {},
   "outputs": [],
   "source": []
  },
  {
   "cell_type": "markdown",
   "metadata": {},
   "source": []
  }
 ],
 "metadata": {
  "celltoolbar": "Raw Cell Format",
  "kernelspec": {
   "display_name": "Python 3",
   "language": "python",
   "name": "python3"
  },
  "language_info": {
   "codemirror_mode": {
    "name": "ipython",
    "version": 3
   },
   "file_extension": ".py",
   "mimetype": "text/x-python",
   "name": "python",
   "nbconvert_exporter": "python",
   "pygments_lexer": "ipython3",
   "version": "3.8.8"
  }
 },
 "nbformat": 4,
 "nbformat_minor": 2
}
